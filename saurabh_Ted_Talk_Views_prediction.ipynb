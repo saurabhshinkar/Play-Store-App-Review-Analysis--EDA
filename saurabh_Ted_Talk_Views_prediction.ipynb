{
  "nbformat": 4,
  "nbformat_minor": 0,
  "metadata": {
    "colab": {
      "name": "saurabh- Ted-Talk-Views-prediction.ipynb",
      "provenance": [],
      "collapsed_sections": [],
      "authorship_tag": "ABX9TyM0EVcs+DSSX6N1mBReWLHm",
      "include_colab_link": true
    },
    "kernelspec": {
      "name": "python3",
      "display_name": "Python 3"
    },
    "language_info": {
      "name": "python"
    }
  },
  "cells": [
    {
      "cell_type": "markdown",
      "metadata": {
        "id": "view-in-github",
        "colab_type": "text"
      },
      "source": [
        "<a href=\"https://colab.research.google.com/github/saurabhshinkar/Play-Store-App-Review-Analysis--EDA/blob/main/saurabh_Ted_Talk_Views_prediction.ipynb\" target=\"_parent\"><img src=\"https://colab.research.google.com/assets/colab-badge.svg\" alt=\"Open In Colab\"/></a>"
      ]
    },
    {
      "cell_type": "markdown",
      "source": [
        "\n",
        "# Importing Libraries"
      ],
      "metadata": {
        "id": "C7mINXVvjVOv"
      }
    },
    {
      "cell_type": "code",
      "execution_count": 1,
      "metadata": {
        "id": "XkRsti3zr74u"
      },
      "outputs": [],
      "source": [
        "#Import all library that will be used in entire project\n",
        "%matplotlib inline\n",
        "import pandas as pd\n",
        "import matplotlib.pyplot as plt\n",
        "import seaborn as sns\n",
        "import numpy as np\n",
        "from scipy.stats import norm\n",
        "from sklearn.preprocessing import StandardScaler\n",
        "from scipy import stats\n",
        "import warnings\n",
        "warnings.filterwarnings('ignore')"
      ]
    },
    {
      "cell_type": "markdown",
      "source": [
        "# Importing Data"
      ],
      "metadata": {
        "id": "ldSOnB_zjtRg"
      }
    },
    {
      "cell_type": "code",
      "source": [
        "#Mount google drive for access of the play store dataset\n",
        "from google.colab import drive\n",
        "drive.mount('/content/drive')\n"
      ],
      "metadata": {
        "colab": {
          "base_uri": "https://localhost:8080/"
        },
        "id": "InbUx-XJsJtO",
        "outputId": "f371cdf1-4341-42d6-af3c-187681e33ecc"
      },
      "execution_count": 2,
      "outputs": [
        {
          "output_type": "stream",
          "name": "stdout",
          "text": [
            "Mounted at /content/drive\n"
          ]
        }
      ]
    },
    {
      "cell_type": "code",
      "source": [
        "# Importing Dataset\n",
        "File_path='/content/drive/MyDrive/Capstone Projects/Ted talk view prediction/'\n",
        "df= pd.read_csv(File_path + 'data_ted_talks.csv')"
      ],
      "metadata": {
        "id": "rpYDlIG3sqnp"
      },
      "execution_count": 30,
      "outputs": []
    },
    {
      "cell_type": "markdown",
      "source": [
        "# Data Preparation"
      ],
      "metadata": {
        "id": "NHrEQnxej6I7"
      }
    },
    {
      "cell_type": "code",
      "source": [
        "# First Look \n",
        "df.head(5)\n",
        "df.style.set_sticky(axis=0)"
      ],
      "metadata": {
        "id": "Ckqoh23cs_ft"
      },
      "execution_count": 17,
      "outputs": []
    },
    {
      "cell_type": "code",
      "source": [
        "#tail of data\n",
        "pd.set_option('display.max_columns', None) \n",
        "pd.set_option('display.max_rows', None)  \n",
        "pd.set_option('display.max_colwidth', -1)  \n",
        "df.head(5).style.set_sticky(axis=1)"
      ],
      "metadata": {
        "id": "XGk9ggsFtnmE"
      },
      "execution_count": 5,
      "outputs": []
    },
    {
      "cell_type": "code",
      "source": [
        "pd.reset_option(\"all\")"
      ],
      "metadata": {
        "id": "H4oXeU5zDApz"
      },
      "execution_count": null,
      "outputs": []
    },
    {
      "cell_type": "code",
      "source": [
        "df.head()"
      ],
      "metadata": {
        "id": "7M4KHnw1DH7j",
        "outputId": "c9f8cb9d-5b12-4c5b-a3ea-514373e3b02c",
        "colab": {
          "base_uri": "https://localhost:8080/",
          "height": 635
        }
      },
      "execution_count": 18,
      "outputs": [
        {
          "output_type": "execute_result",
          "data": {
            "text/plain": [
              "   talk_id                            title         speaker_1  \\\n",
              "0        1      Averting the climate crisis           Al Gore   \n",
              "1       92  The best stats you've ever seen      Hans Rosling   \n",
              "2        7                 Simplicity sells       David Pogue   \n",
              "3       53              Greening the ghetto     Majora Carter   \n",
              "4       66      Do schools kill creativity?  Sir Ken Robinson   \n",
              "\n",
              "              all_speakers                                    occupations  \\\n",
              "0           {0: 'Al Gore'}                      {0: ['climate advocate']}   \n",
              "1      {0: 'Hans Rosling'}  {0: ['global health expert; data visionary']}   \n",
              "2       {0: 'David Pogue'}                  {0: ['technology columnist']}   \n",
              "3     {0: 'Majora Carter'}    {0: ['activist for environmental justice']}   \n",
              "4  {0: 'Sir Ken Robinson'}                    {0: ['author', 'educator']}   \n",
              "\n",
              "                                      about_speakers     views recorded_date  \\\n",
              "0  {0: 'Nobel Laureate Al Gore focused the world’...   3523392    2006-02-25   \n",
              "1  {0: 'In Hans Rosling’s hands, data sings. Glob...  14501685    2006-02-22   \n",
              "2  {0: 'David Pogue is the personal technology co...   1920832    2006-02-24   \n",
              "3  {0: 'Majora Carter redefined the field of envi...   2664069    2006-02-26   \n",
              "4  {0: \"Creativity expert Sir Ken Robinson challe...  65051954    2006-02-25   \n",
              "\n",
              "  published_date    event native_lang  \\\n",
              "0     2006-06-27  TED2006          en   \n",
              "1     2006-06-27  TED2006          en   \n",
              "2     2006-06-27  TED2006          en   \n",
              "3     2006-06-27  TED2006          en   \n",
              "4     2006-06-27  TED2006          en   \n",
              "\n",
              "                                      available_lang  comments  duration  \\\n",
              "0  ['ar', 'bg', 'cs', 'de', 'el', 'en', 'es', 'fa...     272.0       977   \n",
              "1  ['ar', 'az', 'bg', 'bn', 'bs', 'cs', 'da', 'de...     628.0      1190   \n",
              "2  ['ar', 'bg', 'de', 'el', 'en', 'es', 'fa', 'fr...     124.0      1286   \n",
              "3  ['ar', 'bg', 'bn', 'ca', 'cs', 'de', 'en', 'es...     219.0      1116   \n",
              "4  ['af', 'ar', 'az', 'be', 'bg', 'bn', 'ca', 'cs...    4931.0      1164   \n",
              "\n",
              "                                              topics  \\\n",
              "0  ['alternative energy', 'cars', 'climate change...   \n",
              "1  ['Africa', 'Asia', 'Google', 'demo', 'economic...   \n",
              "2  ['computers', 'entertainment', 'interface desi...   \n",
              "3  ['MacArthur grant', 'activism', 'business', 'c...   \n",
              "4  ['children', 'creativity', 'culture', 'dance',...   \n",
              "\n",
              "                                       related_talks  \\\n",
              "0  {243: 'New thinking on the climate crisis', 54...   \n",
              "1  {2056: \"Own your body's data\", 2296: 'A visual...   \n",
              "2  {1725: '10 top time-saving tech tips', 2274: '...   \n",
              "3  {1041: '3 stories of local eco-entrepreneurshi...   \n",
              "4  {865: 'Bring on the learning revolution!', 173...   \n",
              "\n",
              "                                                 url  \\\n",
              "0  https://www.ted.com/talks/al_gore_averting_the...   \n",
              "1  https://www.ted.com/talks/hans_rosling_the_bes...   \n",
              "2  https://www.ted.com/talks/david_pogue_simplici...   \n",
              "3  https://www.ted.com/talks/majora_carter_greeni...   \n",
              "4  https://www.ted.com/talks/sir_ken_robinson_do_...   \n",
              "\n",
              "                                         description  \\\n",
              "0  With the same humor and humanity he exuded in ...   \n",
              "1  You've never seen data presented like this. Wi...   \n",
              "2  New York Times columnist David Pogue takes aim...   \n",
              "3  In an emotionally charged talk, MacArthur-winn...   \n",
              "4  Sir Ken Robinson makes an entertaining and pro...   \n",
              "\n",
              "                                          transcript  \n",
              "0  Thank you so much, Chris. And it's truly a gre...  \n",
              "1  About 10 years ago, I took on the task to teac...  \n",
              "2  (Music: \"The Sound of Silence,\" Simon & Garfun...  \n",
              "3  If you're here today — and I'm very happy that...  \n",
              "4  Good morning. How are you? (Audience) Good. It...  "
            ],
            "text/html": [
              "\n",
              "  <div id=\"df-44519a6d-5aae-49c4-8bed-6c0119ca409b\">\n",
              "    <div class=\"colab-df-container\">\n",
              "      <div>\n",
              "<style scoped>\n",
              "    .dataframe tbody tr th:only-of-type {\n",
              "        vertical-align: middle;\n",
              "    }\n",
              "\n",
              "    .dataframe tbody tr th {\n",
              "        vertical-align: top;\n",
              "    }\n",
              "\n",
              "    .dataframe thead th {\n",
              "        text-align: right;\n",
              "    }\n",
              "</style>\n",
              "<table border=\"1\" class=\"dataframe\">\n",
              "  <thead>\n",
              "    <tr style=\"text-align: right;\">\n",
              "      <th></th>\n",
              "      <th>talk_id</th>\n",
              "      <th>title</th>\n",
              "      <th>speaker_1</th>\n",
              "      <th>all_speakers</th>\n",
              "      <th>occupations</th>\n",
              "      <th>about_speakers</th>\n",
              "      <th>views</th>\n",
              "      <th>recorded_date</th>\n",
              "      <th>published_date</th>\n",
              "      <th>event</th>\n",
              "      <th>native_lang</th>\n",
              "      <th>available_lang</th>\n",
              "      <th>comments</th>\n",
              "      <th>duration</th>\n",
              "      <th>topics</th>\n",
              "      <th>related_talks</th>\n",
              "      <th>url</th>\n",
              "      <th>description</th>\n",
              "      <th>transcript</th>\n",
              "    </tr>\n",
              "  </thead>\n",
              "  <tbody>\n",
              "    <tr>\n",
              "      <th>0</th>\n",
              "      <td>1</td>\n",
              "      <td>Averting the climate crisis</td>\n",
              "      <td>Al Gore</td>\n",
              "      <td>{0: 'Al Gore'}</td>\n",
              "      <td>{0: ['climate advocate']}</td>\n",
              "      <td>{0: 'Nobel Laureate Al Gore focused the world’...</td>\n",
              "      <td>3523392</td>\n",
              "      <td>2006-02-25</td>\n",
              "      <td>2006-06-27</td>\n",
              "      <td>TED2006</td>\n",
              "      <td>en</td>\n",
              "      <td>['ar', 'bg', 'cs', 'de', 'el', 'en', 'es', 'fa...</td>\n",
              "      <td>272.0</td>\n",
              "      <td>977</td>\n",
              "      <td>['alternative energy', 'cars', 'climate change...</td>\n",
              "      <td>{243: 'New thinking on the climate crisis', 54...</td>\n",
              "      <td>https://www.ted.com/talks/al_gore_averting_the...</td>\n",
              "      <td>With the same humor and humanity he exuded in ...</td>\n",
              "      <td>Thank you so much, Chris. And it's truly a gre...</td>\n",
              "    </tr>\n",
              "    <tr>\n",
              "      <th>1</th>\n",
              "      <td>92</td>\n",
              "      <td>The best stats you've ever seen</td>\n",
              "      <td>Hans Rosling</td>\n",
              "      <td>{0: 'Hans Rosling'}</td>\n",
              "      <td>{0: ['global health expert; data visionary']}</td>\n",
              "      <td>{0: 'In Hans Rosling’s hands, data sings. Glob...</td>\n",
              "      <td>14501685</td>\n",
              "      <td>2006-02-22</td>\n",
              "      <td>2006-06-27</td>\n",
              "      <td>TED2006</td>\n",
              "      <td>en</td>\n",
              "      <td>['ar', 'az', 'bg', 'bn', 'bs', 'cs', 'da', 'de...</td>\n",
              "      <td>628.0</td>\n",
              "      <td>1190</td>\n",
              "      <td>['Africa', 'Asia', 'Google', 'demo', 'economic...</td>\n",
              "      <td>{2056: \"Own your body's data\", 2296: 'A visual...</td>\n",
              "      <td>https://www.ted.com/talks/hans_rosling_the_bes...</td>\n",
              "      <td>You've never seen data presented like this. Wi...</td>\n",
              "      <td>About 10 years ago, I took on the task to teac...</td>\n",
              "    </tr>\n",
              "    <tr>\n",
              "      <th>2</th>\n",
              "      <td>7</td>\n",
              "      <td>Simplicity sells</td>\n",
              "      <td>David Pogue</td>\n",
              "      <td>{0: 'David Pogue'}</td>\n",
              "      <td>{0: ['technology columnist']}</td>\n",
              "      <td>{0: 'David Pogue is the personal technology co...</td>\n",
              "      <td>1920832</td>\n",
              "      <td>2006-02-24</td>\n",
              "      <td>2006-06-27</td>\n",
              "      <td>TED2006</td>\n",
              "      <td>en</td>\n",
              "      <td>['ar', 'bg', 'de', 'el', 'en', 'es', 'fa', 'fr...</td>\n",
              "      <td>124.0</td>\n",
              "      <td>1286</td>\n",
              "      <td>['computers', 'entertainment', 'interface desi...</td>\n",
              "      <td>{1725: '10 top time-saving tech tips', 2274: '...</td>\n",
              "      <td>https://www.ted.com/talks/david_pogue_simplici...</td>\n",
              "      <td>New York Times columnist David Pogue takes aim...</td>\n",
              "      <td>(Music: \"The Sound of Silence,\" Simon &amp; Garfun...</td>\n",
              "    </tr>\n",
              "    <tr>\n",
              "      <th>3</th>\n",
              "      <td>53</td>\n",
              "      <td>Greening the ghetto</td>\n",
              "      <td>Majora Carter</td>\n",
              "      <td>{0: 'Majora Carter'}</td>\n",
              "      <td>{0: ['activist for environmental justice']}</td>\n",
              "      <td>{0: 'Majora Carter redefined the field of envi...</td>\n",
              "      <td>2664069</td>\n",
              "      <td>2006-02-26</td>\n",
              "      <td>2006-06-27</td>\n",
              "      <td>TED2006</td>\n",
              "      <td>en</td>\n",
              "      <td>['ar', 'bg', 'bn', 'ca', 'cs', 'de', 'en', 'es...</td>\n",
              "      <td>219.0</td>\n",
              "      <td>1116</td>\n",
              "      <td>['MacArthur grant', 'activism', 'business', 'c...</td>\n",
              "      <td>{1041: '3 stories of local eco-entrepreneurshi...</td>\n",
              "      <td>https://www.ted.com/talks/majora_carter_greeni...</td>\n",
              "      <td>In an emotionally charged talk, MacArthur-winn...</td>\n",
              "      <td>If you're here today — and I'm very happy that...</td>\n",
              "    </tr>\n",
              "    <tr>\n",
              "      <th>4</th>\n",
              "      <td>66</td>\n",
              "      <td>Do schools kill creativity?</td>\n",
              "      <td>Sir Ken Robinson</td>\n",
              "      <td>{0: 'Sir Ken Robinson'}</td>\n",
              "      <td>{0: ['author', 'educator']}</td>\n",
              "      <td>{0: \"Creativity expert Sir Ken Robinson challe...</td>\n",
              "      <td>65051954</td>\n",
              "      <td>2006-02-25</td>\n",
              "      <td>2006-06-27</td>\n",
              "      <td>TED2006</td>\n",
              "      <td>en</td>\n",
              "      <td>['af', 'ar', 'az', 'be', 'bg', 'bn', 'ca', 'cs...</td>\n",
              "      <td>4931.0</td>\n",
              "      <td>1164</td>\n",
              "      <td>['children', 'creativity', 'culture', 'dance',...</td>\n",
              "      <td>{865: 'Bring on the learning revolution!', 173...</td>\n",
              "      <td>https://www.ted.com/talks/sir_ken_robinson_do_...</td>\n",
              "      <td>Sir Ken Robinson makes an entertaining and pro...</td>\n",
              "      <td>Good morning. How are you? (Audience) Good. It...</td>\n",
              "    </tr>\n",
              "  </tbody>\n",
              "</table>\n",
              "</div>\n",
              "      <button class=\"colab-df-convert\" onclick=\"convertToInteractive('df-44519a6d-5aae-49c4-8bed-6c0119ca409b')\"\n",
              "              title=\"Convert this dataframe to an interactive table.\"\n",
              "              style=\"display:none;\">\n",
              "        \n",
              "  <svg xmlns=\"http://www.w3.org/2000/svg\" height=\"24px\"viewBox=\"0 0 24 24\"\n",
              "       width=\"24px\">\n",
              "    <path d=\"M0 0h24v24H0V0z\" fill=\"none\"/>\n",
              "    <path d=\"M18.56 5.44l.94 2.06.94-2.06 2.06-.94-2.06-.94-.94-2.06-.94 2.06-2.06.94zm-11 1L8.5 8.5l.94-2.06 2.06-.94-2.06-.94L8.5 2.5l-.94 2.06-2.06.94zm10 10l.94 2.06.94-2.06 2.06-.94-2.06-.94-.94-2.06-.94 2.06-2.06.94z\"/><path d=\"M17.41 7.96l-1.37-1.37c-.4-.4-.92-.59-1.43-.59-.52 0-1.04.2-1.43.59L10.3 9.45l-7.72 7.72c-.78.78-.78 2.05 0 2.83L4 21.41c.39.39.9.59 1.41.59.51 0 1.02-.2 1.41-.59l7.78-7.78 2.81-2.81c.8-.78.8-2.07 0-2.86zM5.41 20L4 18.59l7.72-7.72 1.47 1.35L5.41 20z\"/>\n",
              "  </svg>\n",
              "      </button>\n",
              "      \n",
              "  <style>\n",
              "    .colab-df-container {\n",
              "      display:flex;\n",
              "      flex-wrap:wrap;\n",
              "      gap: 12px;\n",
              "    }\n",
              "\n",
              "    .colab-df-convert {\n",
              "      background-color: #E8F0FE;\n",
              "      border: none;\n",
              "      border-radius: 50%;\n",
              "      cursor: pointer;\n",
              "      display: none;\n",
              "      fill: #1967D2;\n",
              "      height: 32px;\n",
              "      padding: 0 0 0 0;\n",
              "      width: 32px;\n",
              "    }\n",
              "\n",
              "    .colab-df-convert:hover {\n",
              "      background-color: #E2EBFA;\n",
              "      box-shadow: 0px 1px 2px rgba(60, 64, 67, 0.3), 0px 1px 3px 1px rgba(60, 64, 67, 0.15);\n",
              "      fill: #174EA6;\n",
              "    }\n",
              "\n",
              "    [theme=dark] .colab-df-convert {\n",
              "      background-color: #3B4455;\n",
              "      fill: #D2E3FC;\n",
              "    }\n",
              "\n",
              "    [theme=dark] .colab-df-convert:hover {\n",
              "      background-color: #434B5C;\n",
              "      box-shadow: 0px 1px 3px 1px rgba(0, 0, 0, 0.15);\n",
              "      filter: drop-shadow(0px 1px 2px rgba(0, 0, 0, 0.3));\n",
              "      fill: #FFFFFF;\n",
              "    }\n",
              "  </style>\n",
              "\n",
              "      <script>\n",
              "        const buttonEl =\n",
              "          document.querySelector('#df-44519a6d-5aae-49c4-8bed-6c0119ca409b button.colab-df-convert');\n",
              "        buttonEl.style.display =\n",
              "          google.colab.kernel.accessAllowed ? 'block' : 'none';\n",
              "\n",
              "        async function convertToInteractive(key) {\n",
              "          const element = document.querySelector('#df-44519a6d-5aae-49c4-8bed-6c0119ca409b');\n",
              "          const dataTable =\n",
              "            await google.colab.kernel.invokeFunction('convertToInteractive',\n",
              "                                                     [key], {});\n",
              "          if (!dataTable) return;\n",
              "\n",
              "          const docLinkHtml = 'Like what you see? Visit the ' +\n",
              "            '<a target=\"_blank\" href=https://colab.research.google.com/notebooks/data_table.ipynb>data table notebook</a>'\n",
              "            + ' to learn more about interactive tables.';\n",
              "          element.innerHTML = '';\n",
              "          dataTable['output_type'] = 'display_data';\n",
              "          await google.colab.output.renderOutput(dataTable, element);\n",
              "          const docLink = document.createElement('div');\n",
              "          docLink.innerHTML = docLinkHtml;\n",
              "          element.appendChild(docLink);\n",
              "        }\n",
              "      </script>\n",
              "    </div>\n",
              "  </div>\n",
              "  "
            ]
          },
          "metadata": {},
          "execution_count": 18
        }
      ]
    },
    {
      "cell_type": "code",
      "source": [
        "df.info()"
      ],
      "metadata": {
        "id": "Fc1XaP1Jtw8k"
      },
      "execution_count": null,
      "outputs": []
    },
    {
      "cell_type": "code",
      "source": [
        "#Discription of Data\n",
        "df.describe()"
      ],
      "metadata": {
        "id": "PbLQSUJN9DED"
      },
      "execution_count": null,
      "outputs": []
    },
    {
      "cell_type": "code",
      "source": [
        "# Missing Value Count Function\n",
        "def show_missing():\n",
        "    missing = df.columns[df.isnull().any()].tolist()\n",
        "    return missing\n",
        "\n",
        "# Missing data counts and percentage\n",
        "print('Missing Data Count')\n",
        "print(df[show_missing()].isnull().sum().sort_values(ascending = False))\n",
        "print('--'*50)\n",
        "print('Missing Data Percentage')\n",
        "print(round(df[show_missing()].isnull().sum().sort_values(ascending = False)/len(df)*100,2))"
      ],
      "metadata": {
        "id": "V0EyjftV9n7L",
        "outputId": "568079bb-752d-4ca4-d158-baca8b215168",
        "colab": {
          "base_uri": "https://localhost:8080/"
        }
      },
      "execution_count": 19,
      "outputs": [
        {
          "output_type": "stream",
          "name": "stdout",
          "text": [
            "Missing Data Count\n",
            "comments          655\n",
            "occupations       522\n",
            "about_speakers    503\n",
            "all_speakers        4\n",
            "recorded_date       1\n",
            "dtype: int64\n",
            "----------------------------------------------------------------------------------------------------\n",
            "Missing Data Percentage\n",
            "comments          16.35\n",
            "occupations       13.03\n",
            "about_speakers    12.56\n",
            "all_speakers       0.10\n",
            "recorded_date      0.02\n",
            "dtype: float64\n"
          ]
        }
      ]
    },
    {
      "cell_type": "code",
      "source": [
        "df['comments'].describe()"
      ],
      "metadata": {
        "id": "kVIjPjw0_3Mj",
        "outputId": "0498a403-8fde-486c-c91f-c7a042749225",
        "colab": {
          "base_uri": "https://localhost:8080/"
        }
      },
      "execution_count": 21,
      "outputs": [
        {
          "output_type": "execute_result",
          "data": {
            "text/plain": [
              "count    3350.000000\n",
              "mean      161.997015\n",
              "std       268.838922\n",
              "min         0.000000\n",
              "25%        38.000000\n",
              "50%        89.000000\n",
              "75%       188.000000\n",
              "max      6449.000000\n",
              "Name: comments, dtype: float64"
            ]
          },
          "metadata": {},
          "execution_count": 21
        }
      ]
    },
    {
      "cell_type": "code",
      "source": [
        "plt.rcParams['figure.figsize'] = (15, 5)\n",
        "sns.distplot(df['comments'],color=\"darkred\")"
      ],
      "metadata": {
        "id": "EEAs-00aACHH",
        "outputId": "45762979-1901-4fe8-f378-7cb87917b942",
        "colab": {
          "base_uri": "https://localhost:8080/",
          "height": 351
        }
      },
      "execution_count": 20,
      "outputs": [
        {
          "output_type": "execute_result",
          "data": {
            "text/plain": [
              "<matplotlib.axes._subplots.AxesSubplot at 0x7f4480efe5d0>"
            ]
          },
          "metadata": {},
          "execution_count": 20
        },
        {
          "output_type": "display_data",
          "data": {
            "text/plain": [
              "<Figure size 1080x360 with 1 Axes>"
            ],
            "image/png": "[encoded data removed]"
          },
          "metadata": {
            "needs_background": "light"
          }
        }
      ]
    },
    {
      "cell_type": "code",
      "source": [
        "#Correlation Heatmap\n",
        "plt.figure(figsize = (20,10))\n",
        "sns.heatmap(df.corr(), annot= True)\n",
        "plt.title(\"Correlation Heatmap\",fontsize=20)"
      ],
      "metadata": {
        "id": "JYmYB2YQAp16"
      },
      "execution_count": null,
      "outputs": []
    },
    {
      "cell_type": "code",
      "source": [
        "df[df['occupations'].isnull()]"
      ],
      "metadata": {
        "id": "ZG6tyyKH_bnN",
        "outputId": "223f8713-97ac-4fb1-cf8e-06cdc69ae697",
        "colab": {
          "base_uri": "https://localhost:8080/",
          "height": 1000
        }
      },
      "execution_count": 22,
      "outputs": [
        {
          "output_type": "execute_result",
          "data": {
            "text/plain": [
              "      talk_id                                              title  \\\n",
              "1142     1407                                      I am a pirate   \n",
              "1170     1436                       Tracking our online trackers   \n",
              "1241     1515  Image recognition that triggers augmented reality   \n",
              "1859     2180                            Old books reborn as art   \n",
              "1897     2221                           The day I stood up alone   \n",
              "...       ...                                                ...   \n",
              "3992    62554                     What's the point(e) of ballet?   \n",
              "3996    62707            The wildly complex anatomy of a sneaker   \n",
              "4001    62782                       The dark history of IQ tests   \n",
              "4003    62784       The electrifying speeches of Sojourner Truth   \n",
              "4004    62794               The most important anus in the ocean   \n",
              "\n",
              "                speaker_1                              all_speakers  \\\n",
              "1142       Rick Falkvinge                     {0: 'Rick Falkvinge'}   \n",
              "1170          Gary Kovacs                        {0: 'Gary Kovacs'}   \n",
              "1241           Matt Mills  {0: 'Matt Mills', 1: 'Tamara Roukaerts'}   \n",
              "1859        Brian Dettmer                      {0: 'Brian Dettmer'}   \n",
              "1897      Boniface Mwangi                    {0: 'Boniface Mwangi'}   \n",
              "...                   ...                                       ...   \n",
              "3992            Ming Luke                          {0: 'Ming Luke'}   \n",
              "3996          Angel Chang                        {0: 'Angel Chang'}   \n",
              "4001  Stefan C Dombrowski                {0: 'Stefan C Dombrowski'}   \n",
              "4003    Daina Ramey Berry                  {0: 'Daina Ramey Berry'}   \n",
              "4004         Cella Wright                       {0: 'Cella Wright'}   \n",
              "\n",
              "     occupations                                     about_speakers    views  \\\n",
              "1142         NaN  {0: 'Rick Falkvinge, didn’t plan on becoming a...   220557   \n",
              "1170         NaN  {0: 'Gary Kovacs is a technologist and the for...  2226169   \n",
              "1241         NaN  {0: 'Matt Mills comes from Aurasma, a startup ...  2677855   \n",
              "1859         NaN  {0: 'Artist Brian Dettmer digs into a good boo...  1278357   \n",
              "1897         NaN  {0: 'Boniface Mwangi is an award-winning Kenya...  1469362   \n",
              "...          ...                                                ...      ...   \n",
              "3992         NaN                                                NaN   190644   \n",
              "3996         NaN  {0: 'Angel Chang is a womenswear designer work...   219171   \n",
              "4001         NaN                                                NaN   307187   \n",
              "4003         NaN                                                NaN    56582   \n",
              "4004         NaN                                                NaN        0   \n",
              "\n",
              "     recorded_date published_date           event native_lang  \\\n",
              "1142    2013-10-31     2012-04-01        TEDxOslo          en   \n",
              "1170    2012-02-29     2012-05-03         TED2012          en   \n",
              "1241    2012-06-26     2012-07-19  TEDGlobal 2012          en   \n",
              "1859    2014-11-04     2015-02-06   TEDYouth 2014          en   \n",
              "1897    2014-10-20     2015-04-02  TEDGlobal 2014          en   \n",
              "...            ...            ...             ...         ...   \n",
              "3992    2020-04-20     2020-04-20          TED-Ed          en   \n",
              "3996    2020-04-23     2020-04-23          TED-Ed          en   \n",
              "4001    2020-04-27     2020-04-27          TED-Ed          en   \n",
              "4003    2020-04-28     2020-04-30          TED-Ed          en   \n",
              "4004    2020-04-30     2020-04-30          TED-Ed          en   \n",
              "\n",
              "                                         available_lang  comments  duration  \\\n",
              "1142  ['ar', 'el', 'en', 'es', 'fr', 'it', 'ko', 'nl...     128.0      1097   \n",
              "1170  ['ar', 'bg', 'cs', 'de', 'el', 'en', 'es', 'fa...     260.0       399   \n",
              "1241  ['ar', 'bg', 'de', 'el', 'en', 'es', 'fa', 'fr...     140.0       484   \n",
              "1859  ['ar', 'bg', 'cs', 'de', 'el', 'en', 'es', 'fa...      52.0       366   \n",
              "1897  ['ar', 'bg', 'ca', 'cs', 'da', 'de', 'el', 'en...      79.0       440   \n",
              "...                                                 ...       ...       ...   \n",
              "3992                              ['en', 'fr', 'pt-br']       NaN       279   \n",
              "3996      ['el', 'en', 'es', 'fr', 'ko', 'pt', 'pt-br']       NaN       303   \n",
              "4001                        ['en', 'es', 'my', 'pt-br']       NaN       346   \n",
              "4003                                             ['en']       NaN       257   \n",
              "4004                                             ['en']       NaN       281   \n",
              "\n",
              "                                                 topics  \\\n",
              "1142  ['Internet', 'TEDx', 'global issues', 'politic...   \n",
              "1170  ['Internet', 'advertising', 'business', 'priva...   \n",
              "1241  ['demo', 'design', 'interface design', 'scienc...   \n",
              "1859         ['TEDYouth', 'art', 'creativity', 'books']   \n",
              "1897  ['TED Fellows', 'activism', 'art', 'corruption...   \n",
              "...                                                 ...   \n",
              "3992  ['TED-Ed', 'education', 'animation', 'dance', ...   \n",
              "3996  ['TED-Ed', 'education', 'animation', 'fashion'...   \n",
              "4001  ['TED-Ed', 'education', 'history', 'animation'...   \n",
              "4003  ['TED-Ed', 'education', 'animation', 'United S...   \n",
              "4004  ['animals', 'TED-Ed', 'animation', 'oceans', '...   \n",
              "\n",
              "                                          related_talks  \\\n",
              "1142  {1329: 'Why SOPA is a bad idea', 871: 'Re-exam...   \n",
              "1170  {1370: 'All your devices can be hacked', 788: ...   \n",
              "1241  {481: 'Meet the SixthSense interaction', 1411:...   \n",
              "1859  {610: 'Hold your breath for micro-sculpture', ...   \n",
              "1897  {1757: 'How I named, shamed and jailed', 84: '...   \n",
              "...                                                 ...   \n",
              "3992  {2763: 'The physics of the \"hardest move\" in b...   \n",
              "3996  {2756: 'What really happens to the plastic you...   \n",
              "4001  {35386: 'How does the Rorschach inkblot test w...   \n",
              "4003  {20973: 'The breathtaking courage of Harriet T...   \n",
              "4004  {62347: 'The bug that poops candy', 29159: 'In...   \n",
              "\n",
              "                                                    url  \\\n",
              "1142  https://www.ted.com/talks/rick_falkvinge_i_am_...   \n",
              "1170  https://www.ted.com/talks/gary_kovacs_tracking...   \n",
              "1241  https://www.ted.com/talks/matt_mills_image_rec...   \n",
              "1859  https://www.ted.com/talks/brian_dettmer_old_bo...   \n",
              "1897  https://www.ted.com/talks/boniface_mwangi_the_...   \n",
              "...                                                 ...   \n",
              "3992  https://www.ted.com/talks/ming_luke_what_s_the...   \n",
              "3996  https://www.ted.com/talks/angel_chang_the_wild...   \n",
              "4001  https://www.ted.com/talks/stefan_c_dombrowski_...   \n",
              "4003  https://www.ted.com/talks/daina_ramey_berry_th...   \n",
              "4004  https://www.ted.com/talks/cella_wright_the_mos...   \n",
              "\n",
              "                                            description  \\\n",
              "1142  The Pirate Party fights for transparency, anon...   \n",
              "1170  As you surf the Web, information is being coll...   \n",
              "1241  Matt Mills and Tamara Roukaerts demonstrate Au...   \n",
              "1859  What do you do with an outdated encyclopedia i...   \n",
              "1897  Photographer Boniface Mwangi wanted to protest...   \n",
              "...                                                 ...   \n",
              "3992  A baby cursed at birth. A fierce battle of goo...   \n",
              "3996  Australians call them \"runners.\" The British k...   \n",
              "4001  In 1905, psychologists Alfred Binet and Théodo...   \n",
              "4003  Isabella Baumfree was born into slavery in lat...   \n",
              "4004  Is it a fuzzy sock? An overripe banana? A mold...   \n",
              "\n",
              "                                             transcript  \n",
              "1142  Thank y'all! This is going to be a motivationa...  \n",
              "1170  I don't know why, but I'm continually amazed t...  \n",
              "1241  So wouldn't it be amazing if our phones could ...  \n",
              "1859  I'm an artist and I cut books. This is one of ...  \n",
              "1897  People back home call me a heckler, a troublem...  \n",
              "...                                                 ...  \n",
              "3992  A baby cursed at birth. A fierce battle of goo...  \n",
              "3996  Australians call them “runners.\" The British k...  \n",
              "4001  In 1905, psychologists Alfred Binet and Théodo...  \n",
              "4003  In early 1828, Sojourner Truth approached the ...  \n",
              "4004  Can you guess what you’re looking at? Is it a ...  \n",
              "\n",
              "[522 rows x 19 columns]"
            ],
            "text/html": [
              "\n",
              "  <div id=\"df-835840e0-5411-4924-9436-97ec74dd1789\">\n",
              "    <div class=\"colab-df-container\">\n",
              "      <div>\n",
              "<style scoped>\n",
              "    .dataframe tbody tr th:only-of-type {\n",
              "        vertical-align: middle;\n",
              "    }\n",
              "\n",
              "    .dataframe tbody tr th {\n",
              "        vertical-align: top;\n",
              "    }\n",
              "\n",
              "    .dataframe thead th {\n",
              "        text-align: right;\n",
              "    }\n",
              "</style>\n",
              "<table border=\"1\" class=\"dataframe\">\n",
              "  <thead>\n",
              "    <tr style=\"text-align: right;\">\n",
              "      <th></th>\n",
              "      <th>talk_id</th>\n",
              "      <th>title</th>\n",
              "      <th>speaker_1</th>\n",
              "      <th>all_speakers</th>\n",
              "      <th>occupations</th>\n",
              "      <th>about_speakers</th>\n",
              "      <th>views</th>\n",
              "      <th>recorded_date</th>\n",
              "      <th>published_date</th>\n",
              "      <th>event</th>\n",
              "      <th>native_lang</th>\n",
              "      <th>available_lang</th>\n",
              "      <th>comments</th>\n",
              "      <th>duration</th>\n",
              "      <th>topics</th>\n",
              "      <th>related_talks</th>\n",
              "      <th>url</th>\n",
              "      <th>description</th>\n",
              "      <th>transcript</th>\n",
              "    </tr>\n",
              "  </thead>\n",
              "  <tbody>\n",
              "    <tr>\n",
              "      <th>1142</th>\n",
              "      <td>1407</td>\n",
              "      <td>I am a pirate</td>\n",
              "      <td>Rick Falkvinge</td>\n",
              "      <td>{0: 'Rick Falkvinge'}</td>\n",
              "      <td>NaN</td>\n",
              "      <td>{0: 'Rick Falkvinge, didn’t plan on becoming a...</td>\n",
              "      <td>220557</td>\n",
              "      <td>2013-10-31</td>\n",
              "      <td>2012-04-01</td>\n",
              "      <td>TEDxOslo</td>\n",
              "      <td>en</td>\n",
              "      <td>['ar', 'el', 'en', 'es', 'fr', 'it', 'ko', 'nl...</td>\n",
              "      <td>128.0</td>\n",
              "      <td>1097</td>\n",
              "      <td>['Internet', 'TEDx', 'global issues', 'politic...</td>\n",
              "      <td>{1329: 'Why SOPA is a bad idea', 871: 'Re-exam...</td>\n",
              "      <td>https://www.ted.com/talks/rick_falkvinge_i_am_...</td>\n",
              "      <td>The Pirate Party fights for transparency, anon...</td>\n",
              "      <td>Thank y'all! This is going to be a motivationa...</td>\n",
              "    </tr>\n",
              "    <tr>\n",
              "      <th>1170</th>\n",
              "      <td>1436</td>\n",
              "      <td>Tracking our online trackers</td>\n",
              "      <td>Gary Kovacs</td>\n",
              "      <td>{0: 'Gary Kovacs'}</td>\n",
              "      <td>NaN</td>\n",
              "      <td>{0: 'Gary Kovacs is a technologist and the for...</td>\n",
              "      <td>2226169</td>\n",
              "      <td>2012-02-29</td>\n",
              "      <td>2012-05-03</td>\n",
              "      <td>TED2012</td>\n",
              "      <td>en</td>\n",
              "      <td>['ar', 'bg', 'cs', 'de', 'el', 'en', 'es', 'fa...</td>\n",
              "      <td>260.0</td>\n",
              "      <td>399</td>\n",
              "      <td>['Internet', 'advertising', 'business', 'priva...</td>\n",
              "      <td>{1370: 'All your devices can be hacked', 788: ...</td>\n",
              "      <td>https://www.ted.com/talks/gary_kovacs_tracking...</td>\n",
              "      <td>As you surf the Web, information is being coll...</td>\n",
              "      <td>I don't know why, but I'm continually amazed t...</td>\n",
              "    </tr>\n",
              "    <tr>\n",
              "      <th>1241</th>\n",
              "      <td>1515</td>\n",
              "      <td>Image recognition that triggers augmented reality</td>\n",
              "      <td>Matt Mills</td>\n",
              "      <td>{0: 'Matt Mills', 1: 'Tamara Roukaerts'}</td>\n",
              "      <td>NaN</td>\n",
              "      <td>{0: 'Matt Mills comes from Aurasma, a startup ...</td>\n",
              "      <td>2677855</td>\n",
              "      <td>2012-06-26</td>\n",
              "      <td>2012-07-19</td>\n",
              "      <td>TEDGlobal 2012</td>\n",
              "      <td>en</td>\n",
              "      <td>['ar', 'bg', 'de', 'el', 'en', 'es', 'fa', 'fr...</td>\n",
              "      <td>140.0</td>\n",
              "      <td>484</td>\n",
              "      <td>['demo', 'design', 'interface design', 'scienc...</td>\n",
              "      <td>{481: 'Meet the SixthSense interaction', 1411:...</td>\n",
              "      <td>https://www.ted.com/talks/matt_mills_image_rec...</td>\n",
              "      <td>Matt Mills and Tamara Roukaerts demonstrate Au...</td>\n",
              "      <td>So wouldn't it be amazing if our phones could ...</td>\n",
              "    </tr>\n",
              "    <tr>\n",
              "      <th>1859</th>\n",
              "      <td>2180</td>\n",
              "      <td>Old books reborn as art</td>\n",
              "      <td>Brian Dettmer</td>\n",
              "      <td>{0: 'Brian Dettmer'}</td>\n",
              "      <td>NaN</td>\n",
              "      <td>{0: 'Artist Brian Dettmer digs into a good boo...</td>\n",
              "      <td>1278357</td>\n",
              "      <td>2014-11-04</td>\n",
              "      <td>2015-02-06</td>\n",
              "      <td>TEDYouth 2014</td>\n",
              "      <td>en</td>\n",
              "      <td>['ar', 'bg', 'cs', 'de', 'el', 'en', 'es', 'fa...</td>\n",
              "      <td>52.0</td>\n",
              "      <td>366</td>\n",
              "      <td>['TEDYouth', 'art', 'creativity', 'books']</td>\n",
              "      <td>{610: 'Hold your breath for micro-sculpture', ...</td>\n",
              "      <td>https://www.ted.com/talks/brian_dettmer_old_bo...</td>\n",
              "      <td>What do you do with an outdated encyclopedia i...</td>\n",
              "      <td>I'm an artist and I cut books. This is one of ...</td>\n",
              "    </tr>\n",
              "    <tr>\n",
              "      <th>1897</th>\n",
              "      <td>2221</td>\n",
              "      <td>The day I stood up alone</td>\n",
              "      <td>Boniface Mwangi</td>\n",
              "      <td>{0: 'Boniface Mwangi'}</td>\n",
              "      <td>NaN</td>\n",
              "      <td>{0: 'Boniface Mwangi is an award-winning Kenya...</td>\n",
              "      <td>1469362</td>\n",
              "      <td>2014-10-20</td>\n",
              "      <td>2015-04-02</td>\n",
              "      <td>TEDGlobal 2014</td>\n",
              "      <td>en</td>\n",
              "      <td>['ar', 'bg', 'ca', 'cs', 'da', 'de', 'el', 'en...</td>\n",
              "      <td>79.0</td>\n",
              "      <td>440</td>\n",
              "      <td>['TED Fellows', 'activism', 'art', 'corruption...</td>\n",
              "      <td>{1757: 'How I named, shamed and jailed', 84: '...</td>\n",
              "      <td>https://www.ted.com/talks/boniface_mwangi_the_...</td>\n",
              "      <td>Photographer Boniface Mwangi wanted to protest...</td>\n",
              "      <td>People back home call me a heckler, a troublem...</td>\n",
              "    </tr>\n",
              "    <tr>\n",
              "      <th>...</th>\n",
              "      <td>...</td>\n",
              "      <td>...</td>\n",
              "      <td>...</td>\n",
              "      <td>...</td>\n",
              "      <td>...</td>\n",
              "      <td>...</td>\n",
              "      <td>...</td>\n",
              "      <td>...</td>\n",
              "      <td>...</td>\n",
              "      <td>...</td>\n",
              "      <td>...</td>\n",
              "      <td>...</td>\n",
              "      <td>...</td>\n",
              "      <td>...</td>\n",
              "      <td>...</td>\n",
              "      <td>...</td>\n",
              "      <td>...</td>\n",
              "      <td>...</td>\n",
              "      <td>...</td>\n",
              "    </tr>\n",
              "    <tr>\n",
              "      <th>3992</th>\n",
              "      <td>62554</td>\n",
              "      <td>What's the point(e) of ballet?</td>\n",
              "      <td>Ming Luke</td>\n",
              "      <td>{0: 'Ming Luke'}</td>\n",
              "      <td>NaN</td>\n",
              "      <td>NaN</td>\n",
              "      <td>190644</td>\n",
              "      <td>2020-04-20</td>\n",
              "      <td>2020-04-20</td>\n",
              "      <td>TED-Ed</td>\n",
              "      <td>en</td>\n",
              "      <td>['en', 'fr', 'pt-br']</td>\n",
              "      <td>NaN</td>\n",
              "      <td>279</td>\n",
              "      <td>['TED-Ed', 'education', 'animation', 'dance', ...</td>\n",
              "      <td>{2763: 'The physics of the \"hardest move\" in b...</td>\n",
              "      <td>https://www.ted.com/talks/ming_luke_what_s_the...</td>\n",
              "      <td>A baby cursed at birth. A fierce battle of goo...</td>\n",
              "      <td>A baby cursed at birth. A fierce battle of goo...</td>\n",
              "    </tr>\n",
              "    <tr>\n",
              "      <th>3996</th>\n",
              "      <td>62707</td>\n",
              "      <td>The wildly complex anatomy of a sneaker</td>\n",
              "      <td>Angel Chang</td>\n",
              "      <td>{0: 'Angel Chang'}</td>\n",
              "      <td>NaN</td>\n",
              "      <td>{0: 'Angel Chang is a womenswear designer work...</td>\n",
              "      <td>219171</td>\n",
              "      <td>2020-04-23</td>\n",
              "      <td>2020-04-23</td>\n",
              "      <td>TED-Ed</td>\n",
              "      <td>en</td>\n",
              "      <td>['el', 'en', 'es', 'fr', 'ko', 'pt', 'pt-br']</td>\n",
              "      <td>NaN</td>\n",
              "      <td>303</td>\n",
              "      <td>['TED-Ed', 'education', 'animation', 'fashion'...</td>\n",
              "      <td>{2756: 'What really happens to the plastic you...</td>\n",
              "      <td>https://www.ted.com/talks/angel_chang_the_wild...</td>\n",
              "      <td>Australians call them \"runners.\" The British k...</td>\n",
              "      <td>Australians call them “runners.\" The British k...</td>\n",
              "    </tr>\n",
              "    <tr>\n",
              "      <th>4001</th>\n",
              "      <td>62782</td>\n",
              "      <td>The dark history of IQ tests</td>\n",
              "      <td>Stefan C Dombrowski</td>\n",
              "      <td>{0: 'Stefan C Dombrowski'}</td>\n",
              "      <td>NaN</td>\n",
              "      <td>NaN</td>\n",
              "      <td>307187</td>\n",
              "      <td>2020-04-27</td>\n",
              "      <td>2020-04-27</td>\n",
              "      <td>TED-Ed</td>\n",
              "      <td>en</td>\n",
              "      <td>['en', 'es', 'my', 'pt-br']</td>\n",
              "      <td>NaN</td>\n",
              "      <td>346</td>\n",
              "      <td>['TED-Ed', 'education', 'history', 'animation'...</td>\n",
              "      <td>{35386: 'How does the Rorschach inkblot test w...</td>\n",
              "      <td>https://www.ted.com/talks/stefan_c_dombrowski_...</td>\n",
              "      <td>In 1905, psychologists Alfred Binet and Théodo...</td>\n",
              "      <td>In 1905, psychologists Alfred Binet and Théodo...</td>\n",
              "    </tr>\n",
              "    <tr>\n",
              "      <th>4003</th>\n",
              "      <td>62784</td>\n",
              "      <td>The electrifying speeches of Sojourner Truth</td>\n",
              "      <td>Daina Ramey Berry</td>\n",
              "      <td>{0: 'Daina Ramey Berry'}</td>\n",
              "      <td>NaN</td>\n",
              "      <td>NaN</td>\n",
              "      <td>56582</td>\n",
              "      <td>2020-04-28</td>\n",
              "      <td>2020-04-30</td>\n",
              "      <td>TED-Ed</td>\n",
              "      <td>en</td>\n",
              "      <td>['en']</td>\n",
              "      <td>NaN</td>\n",
              "      <td>257</td>\n",
              "      <td>['TED-Ed', 'education', 'animation', 'United S...</td>\n",
              "      <td>{20973: 'The breathtaking courage of Harriet T...</td>\n",
              "      <td>https://www.ted.com/talks/daina_ramey_berry_th...</td>\n",
              "      <td>Isabella Baumfree was born into slavery in lat...</td>\n",
              "      <td>In early 1828, Sojourner Truth approached the ...</td>\n",
              "    </tr>\n",
              "    <tr>\n",
              "      <th>4004</th>\n",
              "      <td>62794</td>\n",
              "      <td>The most important anus in the ocean</td>\n",
              "      <td>Cella Wright</td>\n",
              "      <td>{0: 'Cella Wright'}</td>\n",
              "      <td>NaN</td>\n",
              "      <td>NaN</td>\n",
              "      <td>0</td>\n",
              "      <td>2020-04-30</td>\n",
              "      <td>2020-04-30</td>\n",
              "      <td>TED-Ed</td>\n",
              "      <td>en</td>\n",
              "      <td>['en']</td>\n",
              "      <td>NaN</td>\n",
              "      <td>281</td>\n",
              "      <td>['animals', 'TED-Ed', 'animation', 'oceans', '...</td>\n",
              "      <td>{62347: 'The bug that poops candy', 29159: 'In...</td>\n",
              "      <td>https://www.ted.com/talks/cella_wright_the_mos...</td>\n",
              "      <td>Is it a fuzzy sock? An overripe banana? A mold...</td>\n",
              "      <td>Can you guess what you’re looking at? Is it a ...</td>\n",
              "    </tr>\n",
              "  </tbody>\n",
              "</table>\n",
              "<p>522 rows × 19 columns</p>\n",
              "</div>\n",
              "      <button class=\"colab-df-convert\" onclick=\"convertToInteractive('df-835840e0-5411-4924-9436-97ec74dd1789')\"\n",
              "              title=\"Convert this dataframe to an interactive table.\"\n",
              "              style=\"display:none;\">\n",
              "        \n",
              "  <svg xmlns=\"http://www.w3.org/2000/svg\" height=\"24px\"viewBox=\"0 0 24 24\"\n",
              "       width=\"24px\">\n",
              "    <path d=\"M0 0h24v24H0V0z\" fill=\"none\"/>\n",
              "    <path d=\"M18.56 5.44l.94 2.06.94-2.06 2.06-.94-2.06-.94-.94-2.06-.94 2.06-2.06.94zm-11 1L8.5 8.5l.94-2.06 2.06-.94-2.06-.94L8.5 2.5l-.94 2.06-2.06.94zm10 10l.94 2.06.94-2.06 2.06-.94-2.06-.94-.94-2.06-.94 2.06-2.06.94z\"/><path d=\"M17.41 7.96l-1.37-1.37c-.4-.4-.92-.59-1.43-.59-.52 0-1.04.2-1.43.59L10.3 9.45l-7.72 7.72c-.78.78-.78 2.05 0 2.83L4 21.41c.39.39.9.59 1.41.59.51 0 1.02-.2 1.41-.59l7.78-7.78 2.81-2.81c.8-.78.8-2.07 0-2.86zM5.41 20L4 18.59l7.72-7.72 1.47 1.35L5.41 20z\"/>\n",
              "  </svg>\n",
              "      </button>\n",
              "      \n",
              "  <style>\n",
              "    .colab-df-container {\n",
              "      display:flex;\n",
              "      flex-wrap:wrap;\n",
              "      gap: 12px;\n",
              "    }\n",
              "\n",
              "    .colab-df-convert {\n",
              "      background-color: #E8F0FE;\n",
              "      border: none;\n",
              "      border-radius: 50%;\n",
              "      cursor: pointer;\n",
              "      display: none;\n",
              "      fill: #1967D2;\n",
              "      height: 32px;\n",
              "      padding: 0 0 0 0;\n",
              "      width: 32px;\n",
              "    }\n",
              "\n",
              "    .colab-df-convert:hover {\n",
              "      background-color: #E2EBFA;\n",
              "      box-shadow: 0px 1px 2px rgba(60, 64, 67, 0.3), 0px 1px 3px 1px rgba(60, 64, 67, 0.15);\n",
              "      fill: #174EA6;\n",
              "    }\n",
              "\n",
              "    [theme=dark] .colab-df-convert {\n",
              "      background-color: #3B4455;\n",
              "      fill: #D2E3FC;\n",
              "    }\n",
              "\n",
              "    [theme=dark] .colab-df-convert:hover {\n",
              "      background-color: #434B5C;\n",
              "      box-shadow: 0px 1px 3px 1px rgba(0, 0, 0, 0.15);\n",
              "      filter: drop-shadow(0px 1px 2px rgba(0, 0, 0, 0.3));\n",
              "      fill: #FFFFFF;\n",
              "    }\n",
              "  </style>\n",
              "\n",
              "      <script>\n",
              "        const buttonEl =\n",
              "          document.querySelector('#df-835840e0-5411-4924-9436-97ec74dd1789 button.colab-df-convert');\n",
              "        buttonEl.style.display =\n",
              "          google.colab.kernel.accessAllowed ? 'block' : 'none';\n",
              "\n",
              "        async function convertToInteractive(key) {\n",
              "          const element = document.querySelector('#df-835840e0-5411-4924-9436-97ec74dd1789');\n",
              "          const dataTable =\n",
              "            await google.colab.kernel.invokeFunction('convertToInteractive',\n",
              "                                                     [key], {});\n",
              "          if (!dataTable) return;\n",
              "\n",
              "          const docLinkHtml = 'Like what you see? Visit the ' +\n",
              "            '<a target=\"_blank\" href=https://colab.research.google.com/notebooks/data_table.ipynb>data table notebook</a>'\n",
              "            + ' to learn more about interactive tables.';\n",
              "          element.innerHTML = '';\n",
              "          dataTable['output_type'] = 'display_data';\n",
              "          await google.colab.output.renderOutput(dataTable, element);\n",
              "          const docLink = document.createElement('div');\n",
              "          docLink.innerHTML = docLinkHtml;\n",
              "          element.appendChild(docLink);\n",
              "        }\n",
              "      </script>\n",
              "    </div>\n",
              "  </div>\n",
              "  "
            ]
          },
          "metadata": {},
          "execution_count": 22
        }
      ]
    },
    {
      "cell_type": "code",
      "source": [
        "df= pd.read_csv(File_path + 'data_ted_talks.csv')"
      ],
      "metadata": {
        "id": "FzLfCOI6l1mX"
      },
      "execution_count": 65,
      "outputs": []
    },
    {
      "cell_type": "code",
      "source": [
        "#Fill NaN Values in comments Column with Median\n",
        "df['comments'] = df['comments'].fillna(df['comments'].median())"
      ],
      "metadata": {
        "id": "loaO_LwE_w0p"
      },
      "execution_count": 71,
      "outputs": []
    },
    {
      "cell_type": "code",
      "source": [
        "df['occupations'] = df['occupations'].fillna(value=\"{0:['other']}\")"
      ],
      "metadata": {
        "id": "Ci86gKMLsH1I"
      },
      "execution_count": 73,
      "outputs": []
    },
    {
      "cell_type": "code",
      "source": [
        "df['about_speakers'] = df['about_speakers'].fillna(value=\"{0: 'other'}\")"
      ],
      "metadata": {
        "id": "KpfH9XVEmaVK"
      },
      "execution_count": 69,
      "outputs": []
    },
    {
      "cell_type": "code",
      "source": [
        "# Missing Value Count Function\n",
        "def show_missing():\n",
        "    missing = df.columns[df.isnull().any()].tolist()\n",
        "    return missing\n",
        "\n",
        "# Missing data counts and percentage\n",
        "print('Missing Data Count')\n",
        "print(df[show_missing()].isnull().sum().sort_values(ascending = False))\n",
        "print('--'*50)\n",
        "print('Missing Data Percentage')\n",
        "print(round(df[show_missing()].isnull().sum().sort_values(ascending = False)/len(df)*100,2))"
      ],
      "metadata": {
        "id": "MfN0JY98m6Ol",
        "outputId": "a4d9db29-d9a4-45d6-a3cf-d038f7defe9f",
        "colab": {
          "base_uri": "https://localhost:8080/"
        }
      },
      "execution_count": 74,
      "outputs": [
        {
          "output_type": "stream",
          "name": "stdout",
          "text": [
            "Missing Data Count\n",
            "all_speakers     4\n",
            "recorded_date    1\n",
            "dtype: int64\n",
            "----------------------------------------------------------------------------------------------------\n",
            "Missing Data Percentage\n",
            "all_speakers     0.10\n",
            "recorded_date    0.02\n",
            "dtype: float64\n"
          ]
        }
      ]
    },
    {
      "cell_type": "code",
      "source": [
        "#Dropping null as they are now negligible \n",
        "df.dropna(inplace=True)"
      ],
      "metadata": {
        "id": "quvEiqY1sVUp"
      },
      "execution_count": 75,
      "outputs": []
    },
    {
      "cell_type": "code",
      "source": [
        "df.isnull().any().any()"
      ],
      "metadata": {
        "id": "2GsNk8BvsebM",
        "outputId": "0dbd5418-5e13-46b3-98c6-53f2848730a9",
        "colab": {
          "base_uri": "https://localhost:8080/"
        }
      },
      "execution_count": 79,
      "outputs": [
        {
          "output_type": "execute_result",
          "data": {
            "text/plain": [
              "False"
            ]
          },
          "metadata": {},
          "execution_count": 79
        }
      ]
    },
    {
      "cell_type": "code",
      "source": [
        "df.duplicated(subset=None, keep='first').any()"
      ],
      "metadata": {
        "id": "NlReVDnyskjf",
        "outputId": "6264fdfd-e77f-4e57-b577-21a5b2a4da8d",
        "colab": {
          "base_uri": "https://localhost:8080/"
        }
      },
      "execution_count": 78,
      "outputs": [
        {
          "output_type": "execute_result",
          "data": {
            "text/plain": [
              "False"
            ]
          },
          "metadata": {},
          "execution_count": 78
        }
      ]
    },
    {
      "cell_type": "code",
      "source": [
        "df.info()"
      ],
      "metadata": {
        "id": "qbGS3BKLufNf",
        "outputId": "a04c2254-04a9-4a16-f3e8-c96ad541dd47",
        "colab": {
          "base_uri": "https://localhost:8080/"
        }
      },
      "execution_count": 80,
      "outputs": [
        {
          "output_type": "stream",
          "name": "stdout",
          "text": [
            "<class 'pandas.core.frame.DataFrame'>\n",
            "Int64Index: 4000 entries, 0 to 4004\n",
            "Data columns (total 19 columns):\n",
            " #   Column          Non-Null Count  Dtype  \n",
            "---  ------          --------------  -----  \n",
            " 0   talk_id         4000 non-null   int64  \n",
            " 1   title           4000 non-null   object \n",
            " 2   speaker_1       4000 non-null   object \n",
            " 3   all_speakers    4000 non-null   object \n",
            " 4   occupations     4000 non-null   object \n",
            " 5   about_speakers  4000 non-null   object \n",
            " 6   views           4000 non-null   int64  \n",
            " 7   recorded_date   4000 non-null   object \n",
            " 8   published_date  4000 non-null   object \n",
            " 9   event           4000 non-null   object \n",
            " 10  native_lang     4000 non-null   object \n",
            " 11  available_lang  4000 non-null   object \n",
            " 12  comments        4000 non-null   float64\n",
            " 13  duration        4000 non-null   int64  \n",
            " 14  topics          4000 non-null   object \n",
            " 15  related_talks   4000 non-null   object \n",
            " 16  url             4000 non-null   object \n",
            " 17  description     4000 non-null   object \n",
            " 18  transcript      4000 non-null   object \n",
            "dtypes: float64(1), int64(3), object(15)\n",
            "memory usage: 625.0+ KB\n"
          ]
        }
      ]
    },
    {
      "cell_type": "code",
      "source": [
        "df['recorded_date']= pd.to_datetime(df['recorded_date'])\n",
        "df['published_date']= pd.to_datetime(df['published_date'])"
      ],
      "metadata": {
        "id": "lBTFHiSwu2jt"
      },
      "execution_count": 81,
      "outputs": []
    },
    {
      "cell_type": "code",
      "source": [
        "df.info()"
      ],
      "metadata": {
        "id": "i48B27qWvxwg",
        "outputId": "251f071c-9b2a-4359-91ad-d4f197963ed9",
        "colab": {
          "base_uri": "https://localhost:8080/"
        }
      },
      "execution_count": 82,
      "outputs": [
        {
          "output_type": "stream",
          "name": "stdout",
          "text": [
            "<class 'pandas.core.frame.DataFrame'>\n",
            "Int64Index: 4000 entries, 0 to 4004\n",
            "Data columns (total 19 columns):\n",
            " #   Column          Non-Null Count  Dtype         \n",
            "---  ------          --------------  -----         \n",
            " 0   talk_id         4000 non-null   int64         \n",
            " 1   title           4000 non-null   object        \n",
            " 2   speaker_1       4000 non-null   object        \n",
            " 3   all_speakers    4000 non-null   object        \n",
            " 4   occupations     4000 non-null   object        \n",
            " 5   about_speakers  4000 non-null   object        \n",
            " 6   views           4000 non-null   int64         \n",
            " 7   recorded_date   4000 non-null   datetime64[ns]\n",
            " 8   published_date  4000 non-null   datetime64[ns]\n",
            " 9   event           4000 non-null   object        \n",
            " 10  native_lang     4000 non-null   object        \n",
            " 11  available_lang  4000 non-null   object        \n",
            " 12  comments        4000 non-null   float64       \n",
            " 13  duration        4000 non-null   int64         \n",
            " 14  topics          4000 non-null   object        \n",
            " 15  related_talks   4000 non-null   object        \n",
            " 16  url             4000 non-null   object        \n",
            " 17  description     4000 non-null   object        \n",
            " 18  transcript      4000 non-null   object        \n",
            "dtypes: datetime64[ns](2), float64(1), int64(3), object(13)\n",
            "memory usage: 625.0+ KB\n"
          ]
        }
      ]
    },
    {
      "cell_type": "code",
      "source": [
        "df['total_days_since_published']= df.published_date.max() - df.published_date"
      ],
      "metadata": {
        "id": "GZZyBk5DwFbT"
      },
      "execution_count": 94,
      "outputs": []
    },
    {
      "cell_type": "code",
      "source": [
        "df.total_days_since_published"
      ],
      "metadata": {
        "id": "laW7YVZsyUgl",
        "outputId": "56d0acfc-53c3-4c98-db4e-5546e9e29d2c",
        "colab": {
          "base_uri": "https://localhost:8080/"
        }
      },
      "execution_count": 95,
      "outputs": [
        {
          "output_type": "execute_result",
          "data": {
            "text/plain": [
              "0      5056 days\n",
              "1      5056 days\n",
              "2      5056 days\n",
              "3      5056 days\n",
              "4      5056 days\n",
              "          ...   \n",
              "4000      3 days\n",
              "4001      3 days\n",
              "4002      2 days\n",
              "4003      0 days\n",
              "4004      0 days\n",
              "Name: published_date, Length: 4000, dtype: timedelta64[ns]"
            ]
          },
          "metadata": {},
          "execution_count": 95
        }
      ]
    },
    {
      "cell_type": "code",
      "source": [
        "df.head(1)"
      ],
      "metadata": {
        "id": "QRGoP7TtyA5h",
        "outputId": "dcf4c52c-9cb3-4b9e-9941-3b078956d7ac",
        "colab": {
          "base_uri": "https://localhost:8080/",
          "height": 214
        }
      },
      "execution_count": 96,
      "outputs": [
        {
          "output_type": "execute_result",
          "data": {
            "text/plain": [
              "   talk_id                        title speaker_1    all_speakers  \\\n",
              "0        1  Averting the climate crisis   Al Gore  {0: 'Al Gore'}   \n",
              "\n",
              "                 occupations  \\\n",
              "0  {0: ['climate advocate']}   \n",
              "\n",
              "                                      about_speakers    views recorded_date  \\\n",
              "0  {0: 'Nobel Laureate Al Gore focused the world’...  3523392    2006-02-25   \n",
              "\n",
              "  published_date    event native_lang  \\\n",
              "0     2006-06-27  TED2006          en   \n",
              "\n",
              "                                      available_lang  comments  duration  \\\n",
              "0  ['ar', 'bg', 'cs', 'de', 'el', 'en', 'es', 'fa...     272.0       977   \n",
              "\n",
              "                                              topics  \\\n",
              "0  ['alternative energy', 'cars', 'climate change...   \n",
              "\n",
              "                                       related_talks  \\\n",
              "0  {243: 'New thinking on the climate crisis', 54...   \n",
              "\n",
              "                                                 url  \\\n",
              "0  https://www.ted.com/talks/al_gore_averting_the...   \n",
              "\n",
              "                                         description  \\\n",
              "0  With the same humor and humanity he exuded in ...   \n",
              "\n",
              "                                          transcript  \\\n",
              "0  Thank you so much, Chris. And it's truly a gre...   \n",
              "\n",
              "  total_days_since_published  \n",
              "0                  5056 days  "
            ],
            "text/html": [
              "\n",
              "  <div id=\"df-bba86b73-df62-46b5-9d8f-e68512c6a679\">\n",
              "    <div class=\"colab-df-container\">\n",
              "      <div>\n",
              "<style scoped>\n",
              "    .dataframe tbody tr th:only-of-type {\n",
              "        vertical-align: middle;\n",
              "    }\n",
              "\n",
              "    .dataframe tbody tr th {\n",
              "        vertical-align: top;\n",
              "    }\n",
              "\n",
              "    .dataframe thead th {\n",
              "        text-align: right;\n",
              "    }\n",
              "</style>\n",
              "<table border=\"1\" class=\"dataframe\">\n",
              "  <thead>\n",
              "    <tr style=\"text-align: right;\">\n",
              "      <th></th>\n",
              "      <th>talk_id</th>\n",
              "      <th>title</th>\n",
              "      <th>speaker_1</th>\n",
              "      <th>all_speakers</th>\n",
              "      <th>occupations</th>\n",
              "      <th>about_speakers</th>\n",
              "      <th>views</th>\n",
              "      <th>recorded_date</th>\n",
              "      <th>published_date</th>\n",
              "      <th>event</th>\n",
              "      <th>native_lang</th>\n",
              "      <th>available_lang</th>\n",
              "      <th>comments</th>\n",
              "      <th>duration</th>\n",
              "      <th>topics</th>\n",
              "      <th>related_talks</th>\n",
              "      <th>url</th>\n",
              "      <th>description</th>\n",
              "      <th>transcript</th>\n",
              "      <th>total_days_since_published</th>\n",
              "    </tr>\n",
              "  </thead>\n",
              "  <tbody>\n",
              "    <tr>\n",
              "      <th>0</th>\n",
              "      <td>1</td>\n",
              "      <td>Averting the climate crisis</td>\n",
              "      <td>Al Gore</td>\n",
              "      <td>{0: 'Al Gore'}</td>\n",
              "      <td>{0: ['climate advocate']}</td>\n",
              "      <td>{0: 'Nobel Laureate Al Gore focused the world’...</td>\n",
              "      <td>3523392</td>\n",
              "      <td>2006-02-25</td>\n",
              "      <td>2006-06-27</td>\n",
              "      <td>TED2006</td>\n",
              "      <td>en</td>\n",
              "      <td>['ar', 'bg', 'cs', 'de', 'el', 'en', 'es', 'fa...</td>\n",
              "      <td>272.0</td>\n",
              "      <td>977</td>\n",
              "      <td>['alternative energy', 'cars', 'climate change...</td>\n",
              "      <td>{243: 'New thinking on the climate crisis', 54...</td>\n",
              "      <td>https://www.ted.com/talks/al_gore_averting_the...</td>\n",
              "      <td>With the same humor and humanity he exuded in ...</td>\n",
              "      <td>Thank you so much, Chris. And it's truly a gre...</td>\n",
              "      <td>5056 days</td>\n",
              "    </tr>\n",
              "  </tbody>\n",
              "</table>\n",
              "</div>\n",
              "      <button class=\"colab-df-convert\" onclick=\"convertToInteractive('df-bba86b73-df62-46b5-9d8f-e68512c6a679')\"\n",
              "              title=\"Convert this dataframe to an interactive table.\"\n",
              "              style=\"display:none;\">\n",
              "        \n",
              "  <svg xmlns=\"http://www.w3.org/2000/svg\" height=\"24px\"viewBox=\"0 0 24 24\"\n",
              "       width=\"24px\">\n",
              "    <path d=\"M0 0h24v24H0V0z\" fill=\"none\"/>\n",
              "    <path d=\"M18.56 5.44l.94 2.06.94-2.06 2.06-.94-2.06-.94-.94-2.06-.94 2.06-2.06.94zm-11 1L8.5 8.5l.94-2.06 2.06-.94-2.06-.94L8.5 2.5l-.94 2.06-2.06.94zm10 10l.94 2.06.94-2.06 2.06-.94-2.06-.94-.94-2.06-.94 2.06-2.06.94z\"/><path d=\"M17.41 7.96l-1.37-1.37c-.4-.4-.92-.59-1.43-.59-.52 0-1.04.2-1.43.59L10.3 9.45l-7.72 7.72c-.78.78-.78 2.05 0 2.83L4 21.41c.39.39.9.59 1.41.59.51 0 1.02-.2 1.41-.59l7.78-7.78 2.81-2.81c.8-.78.8-2.07 0-2.86zM5.41 20L4 18.59l7.72-7.72 1.47 1.35L5.41 20z\"/>\n",
              "  </svg>\n",
              "      </button>\n",
              "      \n",
              "  <style>\n",
              "    .colab-df-container {\n",
              "      display:flex;\n",
              "      flex-wrap:wrap;\n",
              "      gap: 12px;\n",
              "    }\n",
              "\n",
              "    .colab-df-convert {\n",
              "      background-color: #E8F0FE;\n",
              "      border: none;\n",
              "      border-radius: 50%;\n",
              "      cursor: pointer;\n",
              "      display: none;\n",
              "      fill: #1967D2;\n",
              "      height: 32px;\n",
              "      padding: 0 0 0 0;\n",
              "      width: 32px;\n",
              "    }\n",
              "\n",
              "    .colab-df-convert:hover {\n",
              "      background-color: #E2EBFA;\n",
              "      box-shadow: 0px 1px 2px rgba(60, 64, 67, 0.3), 0px 1px 3px 1px rgba(60, 64, 67, 0.15);\n",
              "      fill: #174EA6;\n",
              "    }\n",
              "\n",
              "    [theme=dark] .colab-df-convert {\n",
              "      background-color: #3B4455;\n",
              "      fill: #D2E3FC;\n",
              "    }\n",
              "\n",
              "    [theme=dark] .colab-df-convert:hover {\n",
              "      background-color: #434B5C;\n",
              "      box-shadow: 0px 1px 3px 1px rgba(0, 0, 0, 0.15);\n",
              "      filter: drop-shadow(0px 1px 2px rgba(0, 0, 0, 0.3));\n",
              "      fill: #FFFFFF;\n",
              "    }\n",
              "  </style>\n",
              "\n",
              "      <script>\n",
              "        const buttonEl =\n",
              "          document.querySelector('#df-bba86b73-df62-46b5-9d8f-e68512c6a679 button.colab-df-convert');\n",
              "        buttonEl.style.display =\n",
              "          google.colab.kernel.accessAllowed ? 'block' : 'none';\n",
              "\n",
              "        async function convertToInteractive(key) {\n",
              "          const element = document.querySelector('#df-bba86b73-df62-46b5-9d8f-e68512c6a679');\n",
              "          const dataTable =\n",
              "            await google.colab.kernel.invokeFunction('convertToInteractive',\n",
              "                                                     [key], {});\n",
              "          if (!dataTable) return;\n",
              "\n",
              "          const docLinkHtml = 'Like what you see? Visit the ' +\n",
              "            '<a target=\"_blank\" href=https://colab.research.google.com/notebooks/data_table.ipynb>data table notebook</a>'\n",
              "            + ' to learn more about interactive tables.';\n",
              "          element.innerHTML = '';\n",
              "          dataTable['output_type'] = 'display_data';\n",
              "          await google.colab.output.renderOutput(dataTable, element);\n",
              "          const docLink = document.createElement('div');\n",
              "          docLink.innerHTML = docLinkHtml;\n",
              "          element.appendChild(docLink);\n",
              "        }\n",
              "      </script>\n",
              "    </div>\n",
              "  </div>\n",
              "  "
            ]
          },
          "metadata": {},
          "execution_count": 96
        }
      ]
    }
  ]
}